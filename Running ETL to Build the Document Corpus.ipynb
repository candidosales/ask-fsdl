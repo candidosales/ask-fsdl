{
 "cells": [
  {
   "attachments": {},
   "cell_type": "markdown",
   "metadata": {},
   "source": [
    "# Running ETL to Build the Document Corpus"
   ]
  },
  {
   "attachments": {},
   "cell_type": "markdown",
   "metadata": {},
   "source": [
    "This notebook walks through the process for setting up the corpus of Full Stack documents that the bot searches over.\n",
    "\n",
    "In each case, we have to\n",
    "- Extract data from its natural habitat, like YouTube or GitHub\n",
    "- Transform it into a format that is useful for our purposes\n",
    "- Load it into our database in that format\n",
    "\n",
    "hence the acronym \"ETL\"."
   ]
  },
  {
   "cell_type": "code",
   "execution_count": 1,
   "metadata": {},
   "outputs": [
    {
     "name": "stdout",
     "output_type": "stream",
     "text": [
      "###\n",
      "# 🥞: Loaded config from .env\n",
      "###\n",
      "python3 -m pip install -qqq -r requirements.txt\n",
      "###\n",
      "# 🥞: If you haven't gotten a Modal token yet, run make modal-token\n",
      "###\n",
      "Verifying token against \u001b[4;34mhttps://api.modal.com\u001b[0m\n",
      "\u001b[32mToken verified successfully\u001b[0m\n",
      "Token written to \u001b[35m/Users/candidosales/\u001b[0m\u001b[95m.modal.toml\u001b[0m\n",
      "Created a new secret \u001b[32m'mongodb-fsdl'\u001b[0m with the keys \u001b[32m'MONGODB_USER'\u001b[0m, \u001b[32m'MONGODB_URI'\u001b[0m,\n",
      "\u001b[32m'MONGODB_PASSWORD'\u001b[0m\n",
      "\n",
      "Use it in to your Modal app using:\n",
      "\n",
      "\u001b[40m                                                                                \u001b[0m\n",
      "\u001b[92;40m@stub\u001b[0m\u001b[91;40m.\u001b[0m\u001b[97;40mfunction\u001b[0m\u001b[97;40m(\u001b[0m\u001b[97;40msecret\u001b[0m\u001b[91;40m=\u001b[0m\u001b[97;40mmodal\u001b[0m\u001b[91;40m.\u001b[0m\u001b[97;40mSecret\u001b[0m\u001b[91;40m.\u001b[0m\u001b[97;40mfrom_name\u001b[0m\u001b[97;40m(\u001b[0m\u001b[93;40m\"\u001b[0m\u001b[93;40mmongodb-fsdl\u001b[0m\u001b[93;40m\"\u001b[0m\u001b[97;40m)\u001b[0m\u001b[97;40m)\u001b[0m\u001b[40m                   \u001b[0m\n",
      "\u001b[96;40mdef\u001b[0m\u001b[97;40m \u001b[0m\u001b[92;40msome_function\u001b[0m\u001b[97;40m(\u001b[0m\u001b[97;40m)\u001b[0m\u001b[97;40m:\u001b[0m\u001b[40m                                                            \u001b[0m\n",
      "\u001b[97;40m    \u001b[0m\u001b[97;40mos\u001b[0m\u001b[91;40m.\u001b[0m\u001b[97;40mgetenv\u001b[0m\u001b[97;40m(\u001b[0m\u001b[93;40m\"\u001b[0m\u001b[93;40mMONGODB_USER\u001b[0m\u001b[93;40m\"\u001b[0m\u001b[97;40m)\u001b[0m\u001b[40m                                                   \u001b[0m\n",
      "\u001b[97;40m    \u001b[0m\u001b[97;40mos\u001b[0m\u001b[91;40m.\u001b[0m\u001b[97;40mgetenv\u001b[0m\u001b[97;40m(\u001b[0m\u001b[93;40m\"\u001b[0m\u001b[93;40mMONGODB_URI\u001b[0m\u001b[93;40m\"\u001b[0m\u001b[97;40m)\u001b[0m\u001b[40m                                                    \u001b[0m\n",
      "\u001b[97;40m    \u001b[0m\u001b[97;40mos\u001b[0m\u001b[91;40m.\u001b[0m\u001b[97;40mgetenv\u001b[0m\u001b[97;40m(\u001b[0m\u001b[93;40m\"\u001b[0m\u001b[93;40mMONGODB_PASSWORD\u001b[0m\u001b[93;40m\"\u001b[0m\u001b[97;40m)\u001b[0m\u001b[40m                                               \u001b[0m\n",
      "\u001b[40m                                                                                \u001b[0m\n",
      "Created a new secret \u001b[32m'openai-api-key-fsdl'\u001b[0m with the key \u001b[32m'OPENAI_API_KEY'\u001b[0m\n",
      "\n",
      "Use it in to your Modal app using:\n",
      "\n",
      "\u001b[40m                                                                                \u001b[0m\n",
      "\u001b[92;40m@stub\u001b[0m\u001b[91;40m.\u001b[0m\u001b[97;40mfunction\u001b[0m\u001b[97;40m(\u001b[0m\u001b[97;40msecret\u001b[0m\u001b[91;40m=\u001b[0m\u001b[97;40mmodal\u001b[0m\u001b[91;40m.\u001b[0m\u001b[97;40mSecret\u001b[0m\u001b[91;40m.\u001b[0m\u001b[97;40mfrom_name\u001b[0m\u001b[97;40m(\u001b[0m\u001b[93;40m\"\u001b[0m\u001b[93;40mopenai-api-key-fsdl\u001b[0m\u001b[93;40m\"\u001b[0m\u001b[97;40m)\u001b[0m\u001b[97;40m)\u001b[0m\u001b[40m            \u001b[0m\n",
      "\u001b[96;40mdef\u001b[0m\u001b[97;40m \u001b[0m\u001b[92;40msome_function\u001b[0m\u001b[97;40m(\u001b[0m\u001b[97;40m)\u001b[0m\u001b[97;40m:\u001b[0m\u001b[40m                                                            \u001b[0m\n",
      "\u001b[97;40m    \u001b[0m\u001b[97;40mos\u001b[0m\u001b[91;40m.\u001b[0m\u001b[97;40mgetenv\u001b[0m\u001b[97;40m(\u001b[0m\u001b[93;40m\"\u001b[0m\u001b[93;40mOPENAI_API_KEY\u001b[0m\u001b[93;40m\"\u001b[0m\u001b[97;40m)\u001b[0m\u001b[40m                                                 \u001b[0m\n",
      "\u001b[40m                                                                                \u001b[0m\n"
     ]
    }
   ],
   "source": [
    "!make secrets  # you'll need credentials for Mongo and Modal to run this"
   ]
  },
  {
   "cell_type": "code",
   "execution_count": 2,
   "metadata": {},
   "outputs": [],
   "source": [
    "import json\n",
    "from pathlib import Path\n",
    "import pprint\n",
    "\n",
    "from etl import markdown, pdfs, shared, videos\n",
    "from etl.shared import display_modal_image\n",
    "\n",
    "pp = pprint.PrettyPrinter(indent=2)"
   ]
  },
  {
   "attachments": {},
   "cell_type": "markdown",
   "metadata": {},
   "source": [
    "## PDFs: arXiV Papers"
   ]
  },
  {
   "attachments": {},
   "cell_type": "markdown",
   "metadata": {},
   "source": [
    "```bash\n",
    "!modal run etl/pdfs.py --json-path data/llm-papers.json\n",
    "```"
   ]
  },
  {
   "cell_type": "code",
   "execution_count": 3,
   "metadata": {},
   "outputs": [
    {
     "data": {
      "text/html": [
       "<style>pre { line-height: 125%; }\n",
       "td.linenos .normal { color: inherit; background-color: transparent; padding-left: 5px; padding-right: 5px; }\n",
       "span.linenos { color: inherit; background-color: transparent; padding-left: 5px; padding-right: 5px; }\n",
       "td.linenos .special { color: #000000; background-color: #ffffc0; padding-left: 5px; padding-right: 5px; }\n",
       "span.linenos.special { color: #000000; background-color: #ffffc0; padding-left: 5px; padding-right: 5px; }\n",
       ".output_html .hll { background-color: #0000ff }\n",
       ".output_html { background: #000000; color: #dddddd }\n",
       ".output_html .c { color: #00ff00 } /* Comment */\n",
       ".output_html .err { color: #dddddd } /* Error */\n",
       ".output_html .esc { color: #dddddd } /* Escape */\n",
       ".output_html .g { color: #dddddd } /* Generic */\n",
       ".output_html .k { color: #ff0000 } /* Keyword */\n",
       ".output_html .l { color: #dddddd } /* Literal */\n",
       ".output_html .n { color: #dddddd } /* Name */\n",
       ".output_html .o { color: #dddddd } /* Operator */\n",
       ".output_html .x { color: #dddddd } /* Other */\n",
       ".output_html .p { color: #dddddd } /* Punctuation */\n",
       ".output_html .ch { color: #00ff00 } /* Comment.Hashbang */\n",
       ".output_html .cm { color: #00ff00 } /* Comment.Multiline */\n",
       ".output_html .cp { color: #e5e5e5 } /* Comment.Preproc */\n",
       ".output_html .cpf { color: #00ff00 } /* Comment.PreprocFile */\n",
       ".output_html .c1 { color: #00ff00 } /* Comment.Single */\n",
       ".output_html .cs { color: #00ff00 } /* Comment.Special */\n",
       ".output_html .gd { color: #dddddd } /* Generic.Deleted */\n",
       ".output_html .ge { color: #dddddd } /* Generic.Emph */\n",
       ".output_html .gr { color: #dddddd } /* Generic.Error */\n",
       ".output_html .gh { color: #dddddd } /* Generic.Heading */\n",
       ".output_html .gi { color: #dddddd } /* Generic.Inserted */\n",
       ".output_html .go { color: #dddddd } /* Generic.Output */\n",
       ".output_html .gp { color: #dddddd } /* Generic.Prompt */\n",
       ".output_html .gs { color: #dddddd } /* Generic.Strong */\n",
       ".output_html .gu { color: #dddddd } /* Generic.Subheading */\n",
       ".output_html .gt { color: #dddddd } /* Generic.Traceback */\n",
       ".output_html .kc { color: #ff0000 } /* Keyword.Constant */\n",
       ".output_html .kd { color: #ff0000 } /* Keyword.Declaration */\n",
       ".output_html .kn { color: #ff0000 } /* Keyword.Namespace */\n",
       ".output_html .kp { color: #ff0000 } /* Keyword.Pseudo */\n",
       ".output_html .kr { color: #ff0000 } /* Keyword.Reserved */\n",
       ".output_html .kt { color: #ee82ee } /* Keyword.Type */\n",
       ".output_html .ld { color: #dddddd } /* Literal.Date */\n",
       ".output_html .m { color: #dddddd } /* Literal.Number */\n",
       ".output_html .s { color: #87ceeb } /* Literal.String */\n",
       ".output_html .na { color: #dddddd } /* Name.Attribute */\n",
       ".output_html .nb { color: #dddddd } /* Name.Builtin */\n",
       ".output_html .nc { color: #dddddd } /* Name.Class */\n",
       ".output_html .no { color: #7fffd4 } /* Name.Constant */\n",
       ".output_html .nd { color: #dddddd } /* Name.Decorator */\n",
       ".output_html .ni { color: #dddddd } /* Name.Entity */\n",
       ".output_html .ne { color: #dddddd } /* Name.Exception */\n",
       ".output_html .nf { color: #ffff00 } /* Name.Function */\n",
       ".output_html .nl { color: #dddddd } /* Name.Label */\n",
       ".output_html .nn { color: #dddddd } /* Name.Namespace */\n",
       ".output_html .nx { color: #dddddd } /* Name.Other */\n",
       ".output_html .py { color: #dddddd } /* Name.Property */\n",
       ".output_html .nt { color: #dddddd } /* Name.Tag */\n",
       ".output_html .nv { color: #eedd82 } /* Name.Variable */\n",
       ".output_html .ow { color: #dddddd } /* Operator.Word */\n",
       ".output_html .pm { color: #dddddd } /* Punctuation.Marker */\n",
       ".output_html .w { color: #dddddd } /* Text.Whitespace */\n",
       ".output_html .mb { color: #dddddd } /* Literal.Number.Bin */\n",
       ".output_html .mf { color: #dddddd } /* Literal.Number.Float */\n",
       ".output_html .mh { color: #dddddd } /* Literal.Number.Hex */\n",
       ".output_html .mi { color: #dddddd } /* Literal.Number.Integer */\n",
       ".output_html .mo { color: #dddddd } /* Literal.Number.Oct */\n",
       ".output_html .sa { color: #87ceeb } /* Literal.String.Affix */\n",
       ".output_html .sb { color: #87ceeb } /* Literal.String.Backtick */\n",
       ".output_html .sc { color: #87ceeb } /* Literal.String.Char */\n",
       ".output_html .dl { color: #87ceeb } /* Literal.String.Delimiter */\n",
       ".output_html .sd { color: #87ceeb } /* Literal.String.Doc */\n",
       ".output_html .s2 { color: #87ceeb } /* Literal.String.Double */\n",
       ".output_html .se { color: #87ceeb } /* Literal.String.Escape */\n",
       ".output_html .sh { color: #87ceeb } /* Literal.String.Heredoc */\n",
       ".output_html .si { color: #87ceeb } /* Literal.String.Interpol */\n",
       ".output_html .sx { color: #87ceeb } /* Literal.String.Other */\n",
       ".output_html .sr { color: #87ceeb } /* Literal.String.Regex */\n",
       ".output_html .s1 { color: #87ceeb } /* Literal.String.Single */\n",
       ".output_html .ss { color: #87ceeb } /* Literal.String.Symbol */\n",
       ".output_html .bp { color: #dddddd } /* Name.Builtin.Pseudo */\n",
       ".output_html .fm { color: #ffff00 } /* Name.Function.Magic */\n",
       ".output_html .vc { color: #eedd82 } /* Name.Variable.Class */\n",
       ".output_html .vg { color: #eedd82 } /* Name.Variable.Global */\n",
       ".output_html .vi { color: #eedd82 } /* Name.Variable.Instance */\n",
       ".output_html .vm { color: #eedd82 } /* Name.Variable.Magic */\n",
       ".output_html .il { color: #dddddd } /* Literal.Number.Integer.Long */</style><h1><code>modal.Image</code></h1><div class=\"_pygments_code\"><pre><span></span><span class=\"k\">FROM</span><span class=\"w\"> </span><span class=\"s\">base</span>\n",
       "<span class=\"k\">RUN</span><span class=\"w\"> </span>python<span class=\"w\"> </span>-m<span class=\"w\"> </span>pip<span class=\"w\"> </span>install<span class=\"w\"> </span><span class=\"s1\">&#39;langchain~=0.0.98&#39;</span><span class=\"w\"> </span><span class=\"s1\">&#39;pymongo[srv]==3.11&#39;</span><span class=\"w\"> </span>\n",
       "</pre></div>\n"
      ],
      "text/plain": [
       "<IPython.core.display.HTML object>"
      ]
     },
     "execution_count": 3,
     "metadata": {},
     "output_type": "execute_result"
    }
   ],
   "source": [
    "display_modal_image(shared.image)"
   ]
  },
  {
   "cell_type": "code",
   "execution_count": 4,
   "metadata": {},
   "outputs": [
    {
     "data": {
      "text/html": [
       "<style>pre { line-height: 125%; }\n",
       "td.linenos .normal { color: inherit; background-color: transparent; padding-left: 5px; padding-right: 5px; }\n",
       "span.linenos { color: inherit; background-color: transparent; padding-left: 5px; padding-right: 5px; }\n",
       "td.linenos .special { color: #000000; background-color: #ffffc0; padding-left: 5px; padding-right: 5px; }\n",
       "span.linenos.special { color: #000000; background-color: #ffffc0; padding-left: 5px; padding-right: 5px; }\n",
       ".output_html .hll { background-color: #0000ff }\n",
       ".output_html { background: #000000; color: #dddddd }\n",
       ".output_html .c { color: #00ff00 } /* Comment */\n",
       ".output_html .err { color: #dddddd } /* Error */\n",
       ".output_html .esc { color: #dddddd } /* Escape */\n",
       ".output_html .g { color: #dddddd } /* Generic */\n",
       ".output_html .k { color: #ff0000 } /* Keyword */\n",
       ".output_html .l { color: #dddddd } /* Literal */\n",
       ".output_html .n { color: #dddddd } /* Name */\n",
       ".output_html .o { color: #dddddd } /* Operator */\n",
       ".output_html .x { color: #dddddd } /* Other */\n",
       ".output_html .p { color: #dddddd } /* Punctuation */\n",
       ".output_html .ch { color: #00ff00 } /* Comment.Hashbang */\n",
       ".output_html .cm { color: #00ff00 } /* Comment.Multiline */\n",
       ".output_html .cp { color: #e5e5e5 } /* Comment.Preproc */\n",
       ".output_html .cpf { color: #00ff00 } /* Comment.PreprocFile */\n",
       ".output_html .c1 { color: #00ff00 } /* Comment.Single */\n",
       ".output_html .cs { color: #00ff00 } /* Comment.Special */\n",
       ".output_html .gd { color: #dddddd } /* Generic.Deleted */\n",
       ".output_html .ge { color: #dddddd } /* Generic.Emph */\n",
       ".output_html .gr { color: #dddddd } /* Generic.Error */\n",
       ".output_html .gh { color: #dddddd } /* Generic.Heading */\n",
       ".output_html .gi { color: #dddddd } /* Generic.Inserted */\n",
       ".output_html .go { color: #dddddd } /* Generic.Output */\n",
       ".output_html .gp { color: #dddddd } /* Generic.Prompt */\n",
       ".output_html .gs { color: #dddddd } /* Generic.Strong */\n",
       ".output_html .gu { color: #dddddd } /* Generic.Subheading */\n",
       ".output_html .gt { color: #dddddd } /* Generic.Traceback */\n",
       ".output_html .kc { color: #ff0000 } /* Keyword.Constant */\n",
       ".output_html .kd { color: #ff0000 } /* Keyword.Declaration */\n",
       ".output_html .kn { color: #ff0000 } /* Keyword.Namespace */\n",
       ".output_html .kp { color: #ff0000 } /* Keyword.Pseudo */\n",
       ".output_html .kr { color: #ff0000 } /* Keyword.Reserved */\n",
       ".output_html .kt { color: #ee82ee } /* Keyword.Type */\n",
       ".output_html .ld { color: #dddddd } /* Literal.Date */\n",
       ".output_html .m { color: #dddddd } /* Literal.Number */\n",
       ".output_html .s { color: #87ceeb } /* Literal.String */\n",
       ".output_html .na { color: #dddddd } /* Name.Attribute */\n",
       ".output_html .nb { color: #dddddd } /* Name.Builtin */\n",
       ".output_html .nc { color: #dddddd } /* Name.Class */\n",
       ".output_html .no { color: #7fffd4 } /* Name.Constant */\n",
       ".output_html .nd { color: #dddddd } /* Name.Decorator */\n",
       ".output_html .ni { color: #dddddd } /* Name.Entity */\n",
       ".output_html .ne { color: #dddddd } /* Name.Exception */\n",
       ".output_html .nf { color: #ffff00 } /* Name.Function */\n",
       ".output_html .nl { color: #dddddd } /* Name.Label */\n",
       ".output_html .nn { color: #dddddd } /* Name.Namespace */\n",
       ".output_html .nx { color: #dddddd } /* Name.Other */\n",
       ".output_html .py { color: #dddddd } /* Name.Property */\n",
       ".output_html .nt { color: #dddddd } /* Name.Tag */\n",
       ".output_html .nv { color: #eedd82 } /* Name.Variable */\n",
       ".output_html .ow { color: #dddddd } /* Operator.Word */\n",
       ".output_html .pm { color: #dddddd } /* Punctuation.Marker */\n",
       ".output_html .w { color: #dddddd } /* Text.Whitespace */\n",
       ".output_html .mb { color: #dddddd } /* Literal.Number.Bin */\n",
       ".output_html .mf { color: #dddddd } /* Literal.Number.Float */\n",
       ".output_html .mh { color: #dddddd } /* Literal.Number.Hex */\n",
       ".output_html .mi { color: #dddddd } /* Literal.Number.Integer */\n",
       ".output_html .mo { color: #dddddd } /* Literal.Number.Oct */\n",
       ".output_html .sa { color: #87ceeb } /* Literal.String.Affix */\n",
       ".output_html .sb { color: #87ceeb } /* Literal.String.Backtick */\n",
       ".output_html .sc { color: #87ceeb } /* Literal.String.Char */\n",
       ".output_html .dl { color: #87ceeb } /* Literal.String.Delimiter */\n",
       ".output_html .sd { color: #87ceeb } /* Literal.String.Doc */\n",
       ".output_html .s2 { color: #87ceeb } /* Literal.String.Double */\n",
       ".output_html .se { color: #87ceeb } /* Literal.String.Escape */\n",
       ".output_html .sh { color: #87ceeb } /* Literal.String.Heredoc */\n",
       ".output_html .si { color: #87ceeb } /* Literal.String.Interpol */\n",
       ".output_html .sx { color: #87ceeb } /* Literal.String.Other */\n",
       ".output_html .sr { color: #87ceeb } /* Literal.String.Regex */\n",
       ".output_html .s1 { color: #87ceeb } /* Literal.String.Single */\n",
       ".output_html .ss { color: #87ceeb } /* Literal.String.Symbol */\n",
       ".output_html .bp { color: #dddddd } /* Name.Builtin.Pseudo */\n",
       ".output_html .fm { color: #ffff00 } /* Name.Function.Magic */\n",
       ".output_html .vc { color: #eedd82 } /* Name.Variable.Class */\n",
       ".output_html .vg { color: #eedd82 } /* Name.Variable.Global */\n",
       ".output_html .vi { color: #eedd82 } /* Name.Variable.Instance */\n",
       ".output_html .vm { color: #eedd82 } /* Name.Variable.Magic */\n",
       ".output_html .il { color: #dddddd } /* Literal.Number.Integer.Long */</style><h1><code>modal.Image</code></h1><div class=\"_pygments_code\"><pre><span></span><span class=\"k\">FROM</span><span class=\"w\"> </span><span class=\"s\">base</span>\n",
       "<span class=\"k\">RUN</span><span class=\"w\"> </span>python<span class=\"w\"> </span>-m<span class=\"w\"> </span>pip<span class=\"w\"> </span>install<span class=\"w\"> </span><span class=\"s1\">&#39;pypdf~=3.8&#39;</span><span class=\"w\"> </span>\n",
       "</pre></div>\n"
      ],
      "text/plain": [
       "<IPython.core.display.HTML object>"
      ]
     },
     "execution_count": 4,
     "metadata": {},
     "output_type": "execute_result"
    }
   ],
   "source": [
    "display_modal_image(pdfs.image)"
   ]
  },
  {
   "cell_type": "code",
   "execution_count": null,
   "metadata": {},
   "outputs": [],
   "source": [
    "papers_path = Path(\"data\") / \"llm-papers.json\"\n",
    "\n",
    "with open(papers_path) as f:\n",
    "    pdf_infos = json.load(f)\n",
    "\n",
    "pdf_urls = [pdf[\"url\"] for pdf in pdf_infos]\n",
    "\n",
    "with pdfs.stub.run():\n",
    "    documents = shared.unchunk(  # each pdf creates multiple documents, so we flatten\n",
    "        # after we run the extract_pdf function on Modal\n",
    "        pdfs.extract_pdf.map(pdf_urls, return_exceptions=True)\n",
    "    )"
   ]
  },
  {
   "cell_type": "code",
   "execution_count": null,
   "metadata": {},
   "outputs": [],
   "source": [
    "pp.pprint(documents[0][\"metadata\"])"
   ]
  },
  {
   "cell_type": "code",
   "execution_count": null,
   "metadata": {},
   "outputs": [],
   "source": [
    "from IPython.display import IFrame\n",
    "\n",
    "IFrame(src=documents[0][\"metadata\"][\"source\"], width=800, height=400)"
   ]
  },
  {
   "cell_type": "code",
   "execution_count": null,
   "metadata": {},
   "outputs": [],
   "source": [
    "with shared.stub.run():\n",
    "    # we split our document list into 10 pieces, so that we don't open too many connections\n",
    "    chunked_documents = shared.chunk_into(documents, 10)\n",
    "    list(shared.add_to_document_db.map(chunked_documents))"
   ]
  },
  {
   "cell_type": "code",
   "execution_count": null,
   "metadata": {},
   "outputs": [],
   "source": [
    "with shared.stub.run():\n",
    "   # pull only arxiv papers\n",
    "  query = { \"metadata.source\": { \"$regex\": \"arxiv\\.org\", \"$options\": \"i\" } }\n",
    "  # project out the text field, it can get large\n",
    "  projection = {\"text\": 0}\n",
    "  # get just one result to show it worked\n",
    "  result = shared.query_one_document_db.call(query, projection)\n",
    "\n",
    "pp.pprint(result)"
   ]
  },
  {
   "attachments": {},
   "cell_type": "markdown",
   "metadata": {},
   "source": [
    "## Markdown Files: Lectures"
   ]
  },
  {
   "attachments": {},
   "cell_type": "markdown",
   "metadata": {},
   "source": [
    "```bash\n",
    "!modal run etl/markdown.py --json-path data/lectures-2022.json\n",
    "```"
   ]
  },
  {
   "cell_type": "code",
   "execution_count": null,
   "metadata": {},
   "outputs": [],
   "source": [
    "display_modal_image(markdown.image)"
   ]
  },
  {
   "cell_type": "code",
   "execution_count": null,
   "metadata": {},
   "outputs": [],
   "source": [
    "markdown_path = Path(\"data\") / \"lectures-2022.json\"\n",
    "\n",
    "with open(markdown_path) as f:\n",
    "  markdown_corpus = json.load(f)\n",
    "\n",
    "website_url, md_url = (\n",
    "  markdown_corpus[\"website_url_base\"],\n",
    "  markdown_corpus[\"md_url_base\"],\n",
    ")\n",
    "\n",
    "lectures = markdown_corpus[\"lectures\"]\n",
    "\n",
    "lectures[0]"
   ]
  },
  {
   "cell_type": "code",
   "execution_count": null,
   "metadata": {},
   "outputs": [],
   "source": [
    "with markdown.stub.run():\n",
    "    documents = (\n",
    "        shared.unchunk(  # each lecture creates multiple documents, so we flatten\n",
    "            markdown.to_documents.map(\n",
    "                lectures,\n",
    "                kwargs={\"website_url\": website_url, \"md_url\": md_url},\n",
    "                return_exceptions=True,\n",
    "            )\n",
    "        )\n",
    "    )"
   ]
  },
  {
   "cell_type": "code",
   "execution_count": null,
   "metadata": {},
   "outputs": [],
   "source": [
    "pp.pprint(documents[1][\"metadata\"])"
   ]
  },
  {
   "cell_type": "code",
   "execution_count": null,
   "metadata": {},
   "outputs": [],
   "source": [
    "from IPython.display import IFrame\n",
    "\n",
    "IFrame(src=documents[1][\"metadata\"][\"source\"], width=800, height=400)"
   ]
  },
  {
   "cell_type": "code",
   "execution_count": null,
   "metadata": {},
   "outputs": [],
   "source": [
    "with shared.stub.run():\n",
    "    chunked_documents = shared.chunk_into(documents, 10)\n",
    "    list(shared.add_to_document_db.map(chunked_documents))"
   ]
  },
  {
   "cell_type": "code",
   "execution_count": null,
   "metadata": {},
   "outputs": [],
   "source": [
    "with shared.stub.run():\n",
    "  # pull only lectures\n",
    "  query = { \"metadata.source\": { \"$regex\": \"lecture\", \"$options\": \"i\" } }\n",
    "  # project out the text field, it can get large\n",
    "  projection = {\"text\": 0}\n",
    "  # get just one result to show it worked\n",
    "  result = shared.query_one_document_db.call(query, projection, collection=\"ask-fsdl\")\n",
    "\n",
    "pp.pprint(result)"
   ]
  },
  {
   "attachments": {},
   "cell_type": "markdown",
   "metadata": {},
   "source": [
    "## Videos: YouTube Transcripts"
   ]
  },
  {
   "cell_type": "code",
   "execution_count": null,
   "metadata": {},
   "outputs": [],
   "source": [
    "display_modal_image(videos.image)"
   ]
  },
  {
   "cell_type": "code",
   "execution_count": null,
   "metadata": {},
   "outputs": [],
   "source": [
    "videos_path = Path(\"data\") / \"videos.json\"\n",
    "\n",
    "with open(videos_path) as f:\n",
    "    video_infos = json.load(f)\n",
    "\n",
    "video_ids = [video[\"id\"] for video in video_infos]\n",
    "\n",
    "video_infos[0]"
   ]
  },
  {
   "cell_type": "code",
   "execution_count": null,
   "metadata": {},
   "outputs": [],
   "source": [
    "with videos.stub.run():\n",
    "    documents = (\n",
    "        shared.unchunk(  # each lecture creates multiple documents, so we flatten\n",
    "            videos.extract_subtitles.map(\n",
    "                video_ids,\n",
    "                return_exceptions=True,\n",
    "            )\n",
    "        )\n",
    "    )"
   ]
  },
  {
   "cell_type": "code",
   "execution_count": null,
   "metadata": {},
   "outputs": [],
   "source": [
    "pp.pprint(documents[1][\"metadata\"])"
   ]
  },
  {
   "cell_type": "code",
   "execution_count": null,
   "metadata": {},
   "outputs": [],
   "source": [
    "from IPython.display import YouTubeVideo\n",
    "\n",
    "id_str, time_str = documents[1][\"metadata\"][\"source\"].split(\"?v=\")[1].split(\"&t=\")\n",
    "YouTubeVideo(id_str, start=int(time_str.strip(\"s\")), width=800, height=400)"
   ]
  },
  {
   "cell_type": "code",
   "execution_count": null,
   "metadata": {},
   "outputs": [],
   "source": [
    "with shared.stub.run():\n",
    "    chunked_documents = shared.chunk_into(documents, 10)\n",
    "    list(shared.add_to_document_db.map(chunked_documents))"
   ]
  },
  {
   "cell_type": "code",
   "execution_count": null,
   "metadata": {},
   "outputs": [],
   "source": [
    "with shared.stub.run():\n",
    "  # pull only lectures\n",
    "  query = { \"metadata.source\": { \"$regex\": \"youtube\", \"$options\": \"i\" } }\n",
    "  # project out the text field, it can get large\n",
    "  projection = {\"text\": 0}\n",
    "  # get just one result to show it worked\n",
    "  result = shared.query_one_document_db.call(query, projection, collection=\"ask-fsdl\")\n",
    "\n",
    "pp.pprint(result)"
   ]
  }
 ],
 "metadata": {
  "kernelspec": {
   "display_name": "ask-fsdl",
   "language": "python",
   "name": "python3"
  },
  "language_info": {
   "codemirror_mode": {
    "name": "ipython",
    "version": 3
   },
   "file_extension": ".py",
   "mimetype": "text/x-python",
   "name": "python",
   "nbconvert_exporter": "python",
   "pygments_lexer": "ipython3",
   "version": "3.11.3"
  },
  "orig_nbformat": 4
 },
 "nbformat": 4,
 "nbformat_minor": 2
}
